{
 "cells": [
  {
   "cell_type": "markdown",
   "id": "671a4762",
   "metadata": {},
   "source": [
    "# <center> Stroke Prediction </center>\n",
    "#### <center> Zach Hanson </center>"
   ]
  },
  {
   "cell_type": "markdown",
   "id": "fe743dc7",
   "metadata": {},
   "source": [
    "## Import Libraries and Data"
   ]
  },
  {
   "cell_type": "markdown",
   "id": "c343d88b",
   "metadata": {},
   "source": [
    "### Libraries"
   ]
  },
  {
   "cell_type": "code",
   "execution_count": 135,
   "id": "fd10397c",
   "metadata": {},
   "outputs": [
    {
     "ename": "ImportError",
     "evalue": "cannot import name 'LogisticeRegression' from 'sklearn.linear_model' (C:\\Users\\Zach\\anaconda3\\envs\\dojo-env\\lib\\site-packages\\sklearn\\linear_model\\__init__.py)",
     "output_type": "error",
     "traceback": [
      "\u001b[1;31m---------------------------------------------------------------------------\u001b[0m",
      "\u001b[1;31mImportError\u001b[0m                               Traceback (most recent call last)",
      "Cell \u001b[1;32mIn [135], line 23\u001b[0m\n\u001b[0;32m     21\u001b[0m \u001b[38;5;66;03m#Models\u001b[39;00m\n\u001b[0;32m     22\u001b[0m \u001b[38;5;28;01mfrom\u001b[39;00m \u001b[38;5;21;01msklearn\u001b[39;00m\u001b[38;5;21;01m.\u001b[39;00m\u001b[38;5;21;01mtree\u001b[39;00m \u001b[38;5;28;01mimport\u001b[39;00m DecisionTreeClassifier\n\u001b[1;32m---> 23\u001b[0m \u001b[38;5;28;01mfrom\u001b[39;00m \u001b[38;5;21;01msklearn\u001b[39;00m\u001b[38;5;21;01m.\u001b[39;00m\u001b[38;5;21;01mlinear_model\u001b[39;00m \u001b[38;5;28;01mimport\u001b[39;00m LogisticeRegression\n\u001b[0;32m     24\u001b[0m \u001b[38;5;28;01mfrom\u001b[39;00m \u001b[38;5;21;01msklearn\u001b[39;00m\u001b[38;5;21;01m.\u001b[39;00m\u001b[38;5;21;01mneighbors\u001b[39;00m \u001b[38;5;28;01mimport\u001b[39;00m KNeighborsClassifier\n\u001b[0;32m     26\u001b[0m \u001b[38;5;66;03m#PCA\u001b[39;00m\n",
      "\u001b[1;31mImportError\u001b[0m: cannot import name 'LogisticeRegression' from 'sklearn.linear_model' (C:\\Users\\Zach\\anaconda3\\envs\\dojo-env\\lib\\site-packages\\sklearn\\linear_model\\__init__.py)"
     ]
    }
   ],
   "source": [
    "#Pandas, numpy, matplotlib\n",
    "import pandas as pd\n",
    "import numpy as np\n",
    "import matplotlib.pyplot as plt\n",
    "\n",
    "#Seaborn for better visual on graphs\n",
    "import seaborn as sns\n",
    "#Default theme as seaborn\n",
    "sns.set_theme()\n",
    "\n",
    "#Transformers\n",
    "from sklearn.preprocessing import OneHotEncoder\n",
    "from sklearn.preprocessing import StandardScaler\n",
    "\n",
    "#Preprocessing\n",
    "from sklearn.model_selection import train_test_split\n",
    "from sklearn.compose import make_column_selector\n",
    "from sklearn.compose import make_column_transformer\n",
    "from sklearn.pipeline import make_pipeline\n",
    "\n",
    "#Models\n",
    "from sklearn.tree import DecisionTreeClassifier\n",
    "from sklearn.linear_model import LogisticeRegression\n",
    "from sklearn.neighbors import KNeighborsClassifier\n",
    "\n",
    "#PCA\n",
    "from sklearn.decomposition import PCA\n",
    "\n",
    "#Evaluation Metrics\n",
    "from sklearn.metrics import classification_report\n",
    "\n",
    "#Setting global SciKit-Learn Configuration\n",
    "#Easier to visualize pipelines\n",
    "from sklearn import set_config\n",
    "set_config(display='diagram')"
   ]
  },
  {
   "cell_type": "markdown",
   "id": "ac6fe459",
   "metadata": {},
   "source": [
    "### Data"
   ]
  },
  {
   "cell_type": "code",
   "execution_count": null,
   "id": "a339d489",
   "metadata": {},
   "outputs": [],
   "source": [
    "#Loading in data\n",
    "filename = 'healthcare-dataset-stroke-data.csv'\n",
    "df = pd.read_csv(filename)"
   ]
  },
  {
   "cell_type": "code",
   "execution_count": null,
   "id": "287d2079",
   "metadata": {
    "scrolled": true
   },
   "outputs": [],
   "source": [
    "#Checking to see if loaded properly\n",
    "df.head()"
   ]
  },
  {
   "cell_type": "markdown",
   "id": "bb1aac94",
   "metadata": {},
   "source": [
    "- Looks to be loaded properly"
   ]
  },
  {
   "cell_type": "markdown",
   "id": "c117e2ee",
   "metadata": {},
   "source": [
    "## Data Cleaning"
   ]
  },
  {
   "cell_type": "markdown",
   "id": "77245a9c",
   "metadata": {},
   "source": [
    "### Removing Unnecessary Columns"
   ]
  },
  {
   "cell_type": "code",
   "execution_count": null,
   "id": "7ef27252",
   "metadata": {
    "scrolled": true
   },
   "outputs": [],
   "source": [
    "df = df.drop(columns = 'id')\n",
    "df.head()"
   ]
  },
  {
   "cell_type": "markdown",
   "id": "dab87c71",
   "metadata": {},
   "source": [
    "- ID column was dropped successfully\n",
    "  - This column is not important to predicting stroke risk as each identifier will be different"
   ]
  },
  {
   "cell_type": "markdown",
   "id": "5bb878fa",
   "metadata": {
    "heading_collapsed": true
   },
   "source": [
    "### Removing Unnecessary Rows"
   ]
  },
  {
   "cell_type": "code",
   "execution_count": null,
   "id": "84fbf22c",
   "metadata": {
    "hidden": true
   },
   "outputs": [],
   "source": [
    "duprow = df.duplicated().sum()\n",
    "print(f\"There are {duprow} duplicated rows.\")"
   ]
  },
  {
   "cell_type": "markdown",
   "id": "4b8105d2",
   "metadata": {
    "heading_collapsed": true
   },
   "source": [
    "### Missing Values"
   ]
  },
  {
   "cell_type": "code",
   "execution_count": null,
   "id": "a9380edd",
   "metadata": {
    "hidden": true
   },
   "outputs": [],
   "source": [
    "df.isna().sum()"
   ]
  },
  {
   "cell_type": "markdown",
   "id": "caccb284",
   "metadata": {
    "hidden": true
   },
   "source": [
    "- The only missing values in this data set are in the \"bmi\" column.\n",
    "- This will be addressed later using an imputer during our model creations."
   ]
  },
  {
   "cell_type": "markdown",
   "id": "62531595",
   "metadata": {
    "heading_collapsed": true
   },
   "source": [
    "### Inconsistencies in Data"
   ]
  },
  {
   "cell_type": "markdown",
   "id": "5a59b3bd",
   "metadata": {
    "hidden": true
   },
   "source": [
    "#### Gender"
   ]
  },
  {
   "cell_type": "code",
   "execution_count": null,
   "id": "8820e20f",
   "metadata": {
    "hidden": true
   },
   "outputs": [],
   "source": [
    "df['gender'].value_counts()"
   ]
  },
  {
   "cell_type": "markdown",
   "id": "c603fd53",
   "metadata": {
    "hidden": true
   },
   "source": [
    "- No inconsistencies in this column."
   ]
  },
  {
   "cell_type": "markdown",
   "id": "4960e567",
   "metadata": {
    "hidden": true
   },
   "source": [
    "#### Ever Married"
   ]
  },
  {
   "cell_type": "code",
   "execution_count": null,
   "id": "52a8a30a",
   "metadata": {
    "hidden": true
   },
   "outputs": [],
   "source": [
    "df['ever_married'].value_counts()"
   ]
  },
  {
   "cell_type": "markdown",
   "id": "20b1b4a1",
   "metadata": {
    "hidden": true
   },
   "source": [
    "- No inconsistencies in this column."
   ]
  },
  {
   "cell_type": "markdown",
   "id": "250942c5",
   "metadata": {
    "hidden": true
   },
   "source": [
    "#### Work Type"
   ]
  },
  {
   "cell_type": "code",
   "execution_count": null,
   "id": "d8a8ed14",
   "metadata": {
    "hidden": true
   },
   "outputs": [],
   "source": [
    "df['work_type'].value_counts()"
   ]
  },
  {
   "cell_type": "markdown",
   "id": "a588869a",
   "metadata": {
    "hidden": true
   },
   "source": [
    "- No inconsistencies in this column."
   ]
  },
  {
   "cell_type": "markdown",
   "id": "a178b472",
   "metadata": {
    "hidden": true
   },
   "source": [
    "#### Residence Type"
   ]
  },
  {
   "cell_type": "code",
   "execution_count": null,
   "id": "1a4eb703",
   "metadata": {
    "hidden": true
   },
   "outputs": [],
   "source": [
    "df['Residence_type'].value_counts()"
   ]
  },
  {
   "cell_type": "markdown",
   "id": "e1e2c5af",
   "metadata": {
    "hidden": true
   },
   "source": [
    "- No inconsistencies in this column."
   ]
  },
  {
   "cell_type": "markdown",
   "id": "38be3273",
   "metadata": {
    "hidden": true
   },
   "source": [
    "#### Smoking Status"
   ]
  },
  {
   "cell_type": "code",
   "execution_count": null,
   "id": "48ad5e69",
   "metadata": {
    "hidden": true
   },
   "outputs": [],
   "source": [
    "df['smoking_status'].value_counts()"
   ]
  },
  {
   "cell_type": "markdown",
   "id": "1d51f39b",
   "metadata": {
    "hidden": true
   },
   "source": [
    "- No inconsistencies in this column."
   ]
  },
  {
   "cell_type": "markdown",
   "id": "d0862cf1",
   "metadata": {},
   "source": [
    "## Exploratory Analysis"
   ]
  },
  {
   "cell_type": "code",
   "execution_count": null,
   "id": "634b7b7d",
   "metadata": {},
   "outputs": [],
   "source": [
    "#Copying data frame to prevent data leakage\n",
    "ea_df = df.copy()\n",
    "\n",
    "#Checking to see if it copied correctly\n",
    "ea_df.head()"
   ]
  },
  {
   "cell_type": "markdown",
   "id": "00faad10",
   "metadata": {},
   "source": [
    "- Looks to be copied correctly"
   ]
  },
  {
   "cell_type": "markdown",
   "id": "8e7e72b6",
   "metadata": {},
   "source": [
    "### Categorical Features"
   ]
  },
  {
   "cell_type": "code",
   "execution_count": null,
   "id": "e17f5f03",
   "metadata": {},
   "outputs": [],
   "source": [
    "#Creating Subplot for features\n",
    "fig, ax = plt.subplots(nrows = 2,              #Number of Rows\n",
    "                         ncols = 3,            #Number of Columns\n",
    "                         figsize = (20, 15))   #Size of each subplot\n",
    "\n",
    "\n",
    "#Adding Gender subplot\n",
    "sp1 = sns.histplot(ax = ax[0][0], data = ea_df, x = 'gender');\n",
    "\n",
    "#Adding married subplot\n",
    "sp2 = sns.histplot(ax = ax[0][1], data = ea_df, x = 'ever_married')\n",
    "\n",
    "#Adding work type subplot\n",
    "sp3 = sns.histplot(ax = ax[0][2], data = ea_df, x = 'work_type')\n",
    "\n",
    "#Adding residence type subplot\n",
    "sp4 = sns.histplot(ax = ax[1][0], data = ea_df, x = 'Residence_type')\n",
    "\n",
    "#adding smoking status subplot\n",
    "sp5 = sns.histplot(ax = ax[1][1], data = ea_df, x = 'smoking_status')\n",
    "\n",
    "\n",
    "#Adding space between subplots for readability\n",
    "fig.subplots_adjust(hspace = 0.5)\n",
    "\n",
    "#Rotating tick labels for readability\n",
    "sp1.set_xticklabels(sp1.get_xticklabels(),\n",
    "                    rotation = 45);\n",
    "sp2.set_xticklabels(sp2.get_xticklabels(),\n",
    "                    rotation = 45);\n",
    "sp3.set_xticklabels(sp3.get_xticklabels(),\n",
    "                    rotation = 45);\n",
    "sp4.set_xticklabels(sp4.get_xticklabels(),\n",
    "                    rotation = 45);\n",
    "sp5.set_xticklabels(sp5.get_xticklabels(),\n",
    "                    rotation = 45);\n",
    "\n",
    "\n",
    "#Since we only need 5 subplots, hiding 6th one\n",
    "ax[1][2].set_visible(False)\n",
    "#Moving bottom two subplots to be more centered for better viewing\n",
    "ax[1][0].set_position([0.24, 0.125, 0.228, 0.343])\n",
    "ax[1][1].set_position([0.55, 0.125, 0.228, 0.343])"
   ]
  },
  {
   "cell_type": "markdown",
   "id": "e03fb5e4",
   "metadata": {},
   "source": [
    "- Code for the positioning of subplots 4 and 5 was taken from: https://stackoverflow.com/questions/26767281/position-5-subplots-in-matplotlib"
   ]
  },
  {
   "cell_type": "markdown",
   "id": "e7ec7277",
   "metadata": {},
   "source": [
    "- Gender\n",
    "    - We have a fairly even split of male/female, with slightly more females.\n",
    "- Ever Married\n",
    "    - We have about double the amount of people who were married vs. not married.\n",
    "- Job Type\n",
    "    - Many of the responses chose to not disclose their job type\n",
    "    - People who did respond have a very even split between self employed, government job, and stay-at-home parents, with a very small amount of people who have not worked.\n",
    "- Residence Type\n",
    "    - Very even split between urban and rural residence\n",
    "- Smoking Status\n",
    "    - About half of the people who responded to this have never smoked\n",
    "    - The other half is fairly evenly split between currently smokes and formerly smokes"
   ]
  },
  {
   "cell_type": "markdown",
   "id": "cca47683",
   "metadata": {},
   "source": [
    "### Numerical Features"
   ]
  },
  {
   "cell_type": "code",
   "execution_count": null,
   "id": "44e3fbb5",
   "metadata": {
    "scrolled": false
   },
   "outputs": [],
   "source": [
    "#Creating Subplot for features\n",
    "fig, ax = plt.subplots(nrows = 3,            #Number of Rows\n",
    "                       ncols = 1,            #Number of Columns\n",
    "                       figsize = (15, 10))   #Size of each subplot\n",
    "\n",
    "#Adjusting padding between the 3 subplots for readability\n",
    "fig.subplots_adjust(hspace=0.5)\n",
    "\n",
    "\n",
    "#Adding Age subplot\n",
    "sns.boxplot(ax=ax[0], data=ea_df, x='age', notch=True);\n",
    "\n",
    "#Adding avg Glucose Level subplot\n",
    "sns.boxplot(ax=ax[1], data=ea_df, x='avg_glucose_level', notch=True);\n",
    "\n",
    "#Adding bmi subplot\n",
    "sns.boxplot(ax=ax[2], data=ea_df, x='bmi', notch=True);"
   ]
  },
  {
   "cell_type": "markdown",
   "id": "a76f4c22",
   "metadata": {},
   "source": [
    "- Age\n",
    "    - Fairly even distribution, some very low values that may need to be looked at more\n",
    "    - Could just be thorough sampling and including a very young baby\n",
    "- Average Glucose Level\n",
    "    - Majority of data lies between about 50 and 170\n",
    "    - Quite a few outliers reaching over 250\n",
    "    - Mean of around 90, 50% of the data between about 75 and 115\n",
    "- BMI\n",
    "    - Majority of data between about 5 and 50\n",
    "    - Outliers for the most part are not much higher than the max of our boxplot\n",
    "    - There are a few outliers up around 90 which may need to be addressed, might not be realistic value\n",
    "    - Most of the data appears to be normal, with the average BMI in the high 20s"
   ]
  },
  {
   "cell_type": "code",
   "execution_count": null,
   "id": "3235f012",
   "metadata": {
    "scrolled": false
   },
   "outputs": [],
   "source": [
    "#Changing hypertension and heart disease responses from 1/0 to yes/no\n",
    "ea_df['hypertension'] = ea_df['hypertension'].replace({0: \"No\",\n",
    "                                                       1: \"Yes\"})\n",
    "ea_df['heart_disease'] = ea_df['heart_disease'].replace({0: \"No\",\n",
    "                                                         1: \"Yes\"})\n",
    "ea_df.head()"
   ]
  },
  {
   "cell_type": "code",
   "execution_count": null,
   "id": "aed60cdd",
   "metadata": {},
   "outputs": [],
   "source": [
    "#Creating Subplot for features\n",
    "fig, ax = plt.subplots(nrows = 1,            #Number of Rows\n",
    "                       ncols = 2,            #Number of Columns\n",
    "                       figsize = (15, 10))   #Size of each subplot\n",
    "\n",
    "#Adding hypertension to subplots\n",
    "sns.histplot(ax=ax[0], data=ea_df, x='hypertension');\n",
    "\n",
    "#Adding heart disease to subplots\n",
    "sns.histplot(ax=ax[1], data=ea_df, x='heart_disease');"
   ]
  },
  {
   "cell_type": "markdown",
   "id": "0aff72bb",
   "metadata": {},
   "source": [
    "- Hypertension\n",
    "    - Majority of responses had no hypertension, may need to be considered during modeling later\n",
    "- Heart Disease\n",
    "    - Again, majority of responses had no history of heart disease. Also may need to be considered during modeling"
   ]
  },
  {
   "cell_type": "markdown",
   "id": "d7daafd1",
   "metadata": {},
   "source": [
    "### Target"
   ]
  },
  {
   "cell_type": "code",
   "execution_count": null,
   "id": "b17f3b44",
   "metadata": {},
   "outputs": [],
   "source": [
    "#Changing 0's and 1's to \"yes\" or \"no\" for graphing\n",
    "ea_df['stroke'] = ea_df['stroke'].replace({0: \"No\",\n",
    "                                           1: \"Yes\"})\n",
    "\n",
    "ea_df['stroke'].head()"
   ]
  },
  {
   "cell_type": "code",
   "execution_count": null,
   "id": "56acebbc",
   "metadata": {},
   "outputs": [],
   "source": [
    "#Plotting\n",
    "sns.histplot(data=ea_df, x='stroke');"
   ]
  },
  {
   "cell_type": "markdown",
   "id": "09e0833f",
   "metadata": {},
   "source": [
    "- We can see the large majority of the people did not have a stroke\n",
    "    - This will need to be taken into account during machine learning models"
   ]
  },
  {
   "cell_type": "code",
   "execution_count": null,
   "id": "a0afe2ab",
   "metadata": {},
   "outputs": [],
   "source": [
    "ea_df['stroke'].value_counts()"
   ]
  },
  {
   "cell_type": "markdown",
   "id": "d7ec5538",
   "metadata": {},
   "source": [
    "### Multivariate Analysis\n"
   ]
  },
  {
   "cell_type": "code",
   "execution_count": null,
   "id": "351ce979",
   "metadata": {},
   "outputs": [],
   "source": [
    "#Copying original dataframe\n",
    "mv_df = df.copy()\n",
    "mv_df.head()"
   ]
  },
  {
   "cell_type": "code",
   "execution_count": null,
   "id": "cad34386",
   "metadata": {
    "scrolled": true
   },
   "outputs": [],
   "source": [
    "#Changing married column to 1 for yes, 0 for no\n",
    "mv_df['ever_married'] = mv_df['ever_married'].replace({'Yes': 1,\n",
    "                                                 'No': 0})\n",
    "\n",
    "mv_df.head()"
   ]
  },
  {
   "cell_type": "markdown",
   "id": "527a1678",
   "metadata": {},
   "source": [
    "#### Heatmap for Correlations"
   ]
  },
  {
   "cell_type": "code",
   "execution_count": null,
   "id": "b169ed9a",
   "metadata": {},
   "outputs": [],
   "source": [
    "#Finding correlations between numerical variables\n",
    "corr = mv_df[['age', 'hypertension', 'heart_disease', 'ever_married',\n",
    "              'avg_glucose_level', 'bmi', 'stroke']].corr()\n",
    "\n",
    "#Creating heatmap of correlations\n",
    "sns.heatmap(corr, annot = True)\n",
    "\n",
    "#rotating and shifting labels for readability\n",
    "plt.xticks(rotation=45,ha = 'right');"
   ]
  },
  {
   "cell_type": "markdown",
   "id": "33a700e9",
   "metadata": {},
   "source": [
    "- No large correlations between our target, stroke, and the other features of our data\n",
    "    - Weak positive correlation between age and stroke\n",
    "- Strong positive correlation between age and whether or not the person was married\n",
    "- Weak positive correlation between age and bmi\n",
    "- Weak positive correlation between bmi and if the person was married"
   ]
  },
  {
   "cell_type": "markdown",
   "id": "ce3b56d5",
   "metadata": {},
   "source": [
    "#### Multivariate Visualizations"
   ]
  },
  {
   "cell_type": "code",
   "execution_count": null,
   "id": "ec8b7e39",
   "metadata": {
    "scrolled": false
   },
   "outputs": [],
   "source": [
    "ea_df.groupby('stroke')['work_type'].value_counts().plot(kind='bar');\n",
    "plt.xticks(rotation=45, ha='right');"
   ]
  },
  {
   "cell_type": "code",
   "execution_count": null,
   "id": "f24a1fb0",
   "metadata": {},
   "outputs": [],
   "source": [
    "ea_df.groupby('stroke')['Residence_type'].value_counts().plot(kind='bar');\n",
    "plt.xticks(rotation=45, ha='right');"
   ]
  },
  {
   "cell_type": "code",
   "execution_count": null,
   "id": "112b262f",
   "metadata": {},
   "outputs": [],
   "source": [
    "ea_df.groupby('stroke')['smoking_status'].value_counts().plot(kind='bar');\n",
    "plt.xticks(rotation=45, ha='right');"
   ]
  },
  {
   "cell_type": "markdown",
   "id": "c64b1c44",
   "metadata": {},
   "source": [
    "- Work Type\n",
    "    - People who recorded a \"Private\" work type tended to have the highest number of strokes, could be skewed because it is such a large range of jobs\n",
    "    - Self-Employed people had a very small amount more strokes than people who worked a government job\n",
    "    - People who worked with children recorded very little (2) strokes\n",
    "- Residence Type\n",
    "    - There seems to be extremely little if any correlation between residence type and whether or not the person had a stroke or not\n",
    "    - Very even split between rural and urban\n",
    "- Smoking Status\n",
    "    - If we combine people who have or have previously smoked, there is a small amount more of these people who have had strokes versus non smokers"
   ]
  },
  {
   "cell_type": "markdown",
   "id": "f9c62121",
   "metadata": {},
   "source": [
    "### Key Trends"
   ]
  },
  {
   "cell_type": "markdown",
   "id": "1415fa63",
   "metadata": {},
   "source": [
    "#### Trend 1"
   ]
  },
  {
   "cell_type": "code",
   "execution_count": null,
   "id": "1e93d931",
   "metadata": {},
   "outputs": [],
   "source": [
    "#Initial graph\n",
    "ea_df.groupby('stroke')['smoking_status'].value_counts().unstack().plot(\n",
    "                                kind='barh', color=['#E80000',    #Red\n",
    "                                                    '#1E73BE',    #Blue\n",
    "                                                    '#C850B0',    #Pinkish\n",
    "                                                    '#660A60']);  #Purple\n",
    "                                                    \n",
    "\n",
    "#Adding label to x axis\n",
    "plt.xlabel('Count');\n",
    "\n",
    "#Rotating y label\n",
    "plt.ylabel('Stroke', rotation=0, labelpad=25);\n",
    "\n",
    "#Adding title\n",
    "plt.title('Stroke vs. Smoking Status Among Respondants');"
   ]
  },
  {
   "cell_type": "markdown",
   "id": "063a81b0",
   "metadata": {},
   "source": [
    "- People that have had a stroke are slightly more likely to currently or formerly smoke than non smokers.\n",
    "- More non-smokers have not had strokes compared to current or former smokers.\n",
    "- Unknown entries may swing the data more drastically in one direction, especially with the small amount of data we have for people who have had a stroke."
   ]
  },
  {
   "cell_type": "markdown",
   "id": "767a1e40",
   "metadata": {},
   "source": [
    "#### Trend 2"
   ]
  },
  {
   "cell_type": "code",
   "execution_count": null,
   "id": "5049ccba",
   "metadata": {},
   "outputs": [],
   "source": [
    "#Getting median value of age for both stroke categories\n",
    "ea_df.groupby('stroke')['age'].median().plot(kind='bar')\n",
    "\n",
    "#Making x label capitalized\n",
    "plt.xlabel('Stroke', labelpad=10)\n",
    "#Rotatingi x tick labels for readability\n",
    "plt.xticks(rotation=0)\n",
    "\n",
    "#Adding y label\n",
    "plt.ylabel('Age', rotation=0, labelpad=25)\n",
    "\n",
    "#Adding title\n",
    "plt.title('Median Age of People who Suffered a Stroke vs. No Stroke');"
   ]
  },
  {
   "cell_type": "markdown",
   "id": "13821f11",
   "metadata": {},
   "source": [
    "- People who did not have a stroke have a fairly average age of just over 40.\n",
    "- People who did have a stroke have a median age of just over 70.\n",
    "- We can see the median age of people who have had a stroke is much higher, about 30 years, than people who have not had a stroke. "
   ]
  },
  {
   "cell_type": "markdown",
   "id": "4f5a6021",
   "metadata": {},
   "source": [
    "## Machine Learning"
   ]
  },
  {
   "cell_type": "markdown",
   "id": "12bd3a4d",
   "metadata": {},
   "source": [
    "### Preparing for Preprocessing"
   ]
  },
  {
   "cell_type": "code",
   "execution_count": null,
   "id": "c9d6efc5",
   "metadata": {
    "scrolled": true
   },
   "outputs": [],
   "source": [
    "#Copying data to prevent leakage\n",
    "ml_df = df.copy()\n",
    "ml_df.head()"
   ]
  },
  {
   "cell_type": "code",
   "execution_count": null,
   "id": "e6dc0603",
   "metadata": {},
   "outputs": [],
   "source": [
    "ml_df.info()"
   ]
  },
  {
   "cell_type": "markdown",
   "id": "0202ae42",
   "metadata": {},
   "source": [
    "- Looks to have copied successfully "
   ]
  },
  {
   "cell_type": "markdown",
   "id": "dd4b718a",
   "metadata": {},
   "source": [
    "- None of our data requires ordinal encoding so we can OneHotEncode all of our categorical data.\n",
    "- Want to update a few columns from integer datatype to object because they do not need to be scaled (Hypertension, etc)"
   ]
  },
  {
   "cell_type": "code",
   "execution_count": null,
   "id": "ec0eea23",
   "metadata": {},
   "outputs": [],
   "source": [
    "#Updating datatypes\n",
    "ml_df['hypertension'] = ml_df['hypertension'].astype(object)\n",
    "ml_df['heart_disease'] = ml_df['heart_disease'].astype(object)\n",
    "ml_df['stroke'] = ml_df['stroke'].astype(object)\n",
    "\n",
    "ml_df.info()"
   ]
  },
  {
   "cell_type": "markdown",
   "id": "7414758f",
   "metadata": {},
   "source": [
    "- Converted successfully"
   ]
  },
  {
   "cell_type": "markdown",
   "id": "a645e15f",
   "metadata": {},
   "source": [
    "### Preprocessing"
   ]
  },
  {
   "cell_type": "markdown",
   "id": "a7df061f",
   "metadata": {},
   "source": [
    "#### Defining Target and Features"
   ]
  },
  {
   "cell_type": "code",
   "execution_count": null,
   "id": "c02f5f40",
   "metadata": {},
   "outputs": [],
   "source": [
    "target = 'stroke'\n",
    "y = ml_df[target].copy()\n",
    "X = ml_df.drop(columns = [target]).copy()"
   ]
  },
  {
   "cell_type": "markdown",
   "id": "7073e4bd",
   "metadata": {},
   "source": [
    "#### Splitting Data"
   ]
  },
  {
   "cell_type": "code",
   "execution_count": null,
   "id": "bab70941",
   "metadata": {},
   "outputs": [],
   "source": [
    "X_train, X_test, y_train, y_test = train_test_split(X, y, random_state = 42)"
   ]
  },
  {
   "cell_type": "markdown",
   "id": "1526cf15",
   "metadata": {},
   "source": [
    "#### Column Selectors"
   ]
  },
  {
   "cell_type": "code",
   "execution_count": null,
   "id": "c9c0406f",
   "metadata": {},
   "outputs": [],
   "source": [
    "#Numerical selector\n",
    "num_selector = make_column_selector(dtype_include='number')\n",
    "\n",
    "#Categorical selector\n",
    "cat_selector = make_column_selector(dtype_include='object')"
   ]
  },
  {
   "cell_type": "markdown",
   "id": "f940ec1c",
   "metadata": {},
   "source": [
    "#### Transformers"
   ]
  },
  {
   "cell_type": "code",
   "execution_count": null,
   "id": "04187a9a",
   "metadata": {},
   "outputs": [],
   "source": [
    "#Instantiating Transformers, scaler for num, OHE for cat\n",
    "scaler = StandardScaler()\n",
    "ohe = OneHotEncoder(sparse=False, handle_unknown='ignore')"
   ]
  },
  {
   "cell_type": "markdown",
   "id": "4a9e2e59",
   "metadata": {},
   "source": [
    "#### Tuples"
   ]
  },
  {
   "cell_type": "code",
   "execution_count": null,
   "id": "78107830",
   "metadata": {},
   "outputs": [],
   "source": [
    "#Numerical tuple\n",
    "num_tuple = (scaler, num_selector)\n",
    "\n",
    "#Categorical tuple\n",
    "cat_tuple = (ohe, cat_selector)"
   ]
  },
  {
   "cell_type": "markdown",
   "id": "df1aa641",
   "metadata": {},
   "source": [
    "- Do not need to make pipelines here because we do not need to impute any data, can skip ahead to the tuples for column transformer"
   ]
  },
  {
   "cell_type": "markdown",
   "id": "9ab702e8",
   "metadata": {},
   "source": [
    "#### Column Transformer"
   ]
  },
  {
   "cell_type": "code",
   "execution_count": null,
   "id": "fc3fc11e",
   "metadata": {
    "scrolled": false
   },
   "outputs": [],
   "source": [
    "preprocessor = make_column_transformer(num_tuple,\n",
    "                                       cat_tuple,\n",
    "                                       remainder='drop')\n",
    "preprocessor"
   ]
  },
  {
   "cell_type": "markdown",
   "id": "a1e17b86",
   "metadata": {},
   "source": [
    "### Models"
   ]
  },
  {
   "cell_type": "markdown",
   "id": "5b0ebb51",
   "metadata": {},
   "source": [
    "#### Decision Tree"
   ]
  },
  {
   "cell_type": "code",
   "execution_count": null,
   "id": "f7e689a4",
   "metadata": {},
   "outputs": [],
   "source": [
    "#Instantiate Decision Tree\n",
    "dec_tree = DecisionTreeClassifier(random_state=42)"
   ]
  },
  {
   "cell_type": "markdown",
   "id": "105bb2f2",
   "metadata": {},
   "source": [
    "#### Logistic Regression"
   ]
  },
  {
   "cell_type": "code",
   "execution_count": null,
   "id": "0199faa6",
   "metadata": {},
   "outputs": [],
   "source": [
    "#Instantiate Logistic Regression\n",
    "logreg = LogisticRegression(random_state=42)"
   ]
  },
  {
   "cell_type": "markdown",
   "id": "d1d43ff2",
   "metadata": {},
   "source": [
    "#### KNN"
   ]
  },
  {
   "cell_type": "code",
   "execution_count": null,
   "id": "3135e7ac",
   "metadata": {},
   "outputs": [],
   "source": [
    "#Instantiate KNN\n",
    "knn = KNeighborsClassifier()"
   ]
  },
  {
   "cell_type": "markdown",
   "id": "8b593555",
   "metadata": {},
   "source": [
    "#### Dec tree or log reg (based on performance) with PCA"
   ]
  },
  {
   "cell_type": "code",
   "execution_count": null,
   "id": "82332ab8",
   "metadata": {},
   "outputs": [],
   "source": [
    "#Instantiate PCA\n",
    "pca = PCA(n_components = 0.95)"
   ]
  },
  {
   "cell_type": "markdown",
   "id": "6341f251",
   "metadata": {},
   "source": [
    "- Retaining 95% of the variance"
   ]
  },
  {
   "cell_type": "markdown",
   "id": "a07ac7ab",
   "metadata": {},
   "source": [
    "#### KNN with PCA"
   ]
  },
  {
   "cell_type": "markdown",
   "id": "ee9c5cf1",
   "metadata": {},
   "source": [
    "- Instantiated PCA above as \"pca\", do not need to instantiate again"
   ]
  }
 ],
 "metadata": {
  "kernelspec": {
   "display_name": "Python (dojo-env)",
   "language": "python",
   "name": "dojo-env"
  },
  "language_info": {
   "codemirror_mode": {
    "name": "ipython",
    "version": 3
   },
   "file_extension": ".py",
   "mimetype": "text/x-python",
   "name": "python",
   "nbconvert_exporter": "python",
   "pygments_lexer": "ipython3",
   "version": "3.9.15"
  },
  "toc": {
   "base_numbering": 1,
   "nav_menu": {},
   "number_sections": false,
   "sideBar": true,
   "skip_h1_title": false,
   "title_cell": "Table of Contents",
   "title_sidebar": "Contents",
   "toc_cell": false,
   "toc_position": {
    "height": "calc(100% - 180px)",
    "left": "10px",
    "top": "150px",
    "width": "292px"
   },
   "toc_section_display": true,
   "toc_window_display": true
  }
 },
 "nbformat": 4,
 "nbformat_minor": 5
}
